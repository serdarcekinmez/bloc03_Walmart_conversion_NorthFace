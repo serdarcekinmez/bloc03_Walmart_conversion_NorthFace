{
 "cells": [
  {
   "cell_type": "markdown",
   "metadata": {},
   "source": [
    "<img src=\"https://upload.wikimedia.org/wikipedia/commons/8/89/TheNorthFace_logo.svg\" alt=\"THE NORTH FACE LOGO\" width=\"50%\" />\n",
    "\n",
    "# The North Face e-commerce : boosting online sales !"
   ]
  },
  {
   "cell_type": "markdown",
   "metadata": {},
   "source": [
    "## Company's Description 📇\n",
    "\n",
    "The North Face is an American outdoor recreation product company, founded in 1968 to supply climbers. The North Face produces clothing, footwear, and outdoor equipment. By the late 1990s customers had expanded beyond outdoor enthusiasts and in the 2000s it became a fashion style symbol.\n"
   ]
  },
  {
   "cell_type": "markdown",
   "metadata": {},
   "source": [
    "## Project 🚧\n",
    "\n",
    "The marketing department would like to take advantage of machine learning solutions to boost online sales on the website : https://www.thenorthface.fr/\n",
    "\n",
    "They have identified two major solutions that could have a huge effect on the conversion rates :\n",
    "- Deploying a **recommender system** that will allow to suggest additionnal products to users, that are similar to the items they are already interested in. The recommendations could be materialized by a \"you might also be interested by these products...\" section that would appear on each product page of the website.\n",
    "- Improving the structure of the products catalog thanks to **topic extraction**. The idea is to use unsupervised methods to challenge the existing categories : is it possible to find new categories of product that would be more suitable for the navigation on the website ?"
   ]
  },
  {
   "cell_type": "markdown",
   "metadata": {},
   "source": [
    "## Goals 🎯\n",
    "\n",
    "The project can be cut into three steps :\n",
    "\n",
    "1. Identify groups of products that have similar descriptions.\n",
    "\n",
    "2. Use the groups of similar products to build a simple recommender system algorithm.\n",
    "\n",
    "3. Use topic modeling algorithms to automatically assess the latent topics present in the item descriptions."
   ]
  },
  {
   "cell_type": "markdown",
   "metadata": {},
   "source": [
    "## Scope of this project 🖼️\n",
    "\n",
    "In this project, you'll work with a corpus of item descriptions from The North Face's product catalog. Data can be found here: \n",
    "\n",
    "👉👉<a href=\"https://www.kaggle.com/cclark/product-item-data?select=sample-data.csv\" target=\"_blank\"> The North Face product catalog</a> 👈👈\n"
   ]
  },
  {
   "cell_type": "markdown",
   "metadata": {},
   "source": [
    "## Helpers 🦮\n",
    "\n",
    "To help you achieve this project, here are a few tips that should help you: \n",
    "\n",
    "### Preprocessing of textual data\n",
    "\n",
    "- First, you'll have to make some preprocessings to clean the corpus (in particular, don't forget to handle stop words and to lemmatize the documents). For this step, you'll need `pandas` and `spacy`.\n",
    "\n",
    "- Then, you can to encode the texts with **TF-IDF transformation** (this can be done with scikit learn's `TFIDFVectorizer`)\n",
    "\n",
    "### Part 1 : Groups of products with similar descriptions\n",
    "\n",
    "For this part, you'll have to train a **clustering model** that will create groups of products for which the descriptions are \"close\" to each other. \n",
    "- You can use `DBSCAN` to make some clustering on the TF-IDF matrix. When dealing with texts, the distance metric to be used is \"cosine\" instead of \"euclidean\". You have to find some values for `eps` and `min_samples` that allow to get 10-20 clusters and not too many outliers.\n",
    "- You can display a `wordcloud` for each cluster to analyze the results and see if the groups contain different words.\n",
    "\n",
    "### Part 2 - Recommender system\n",
    "\n",
    "Then, you can use the cluster ids from part 1 to build a **recommender system**. The aim is to be able to suggest to a user some products that are similar to the ones he is interested in. To do this, we will consider that products belonging to the same cluster are similar.\n",
    "\n",
    "- Create a function named `find_similar_items` that takes an argument `item_id` representing the id of a product, and that returns a list of 5 item ids that belong to the same cluster as the product passed in argument\n",
    "- Use python's `input()` function to allow the user to choose a product and perform some suggestions of similar items\n",
    "\n",
    "### Part 3 : Topic modeling\n",
    "\n",
    "*This part is independant from the two others.*\n",
    "\n",
    "The aim is to use an LSA model to automatically extract latent topics in the products' descriptions.\n",
    "\n",
    "- Use TruncatedSVD to make some topic extraction from the TF-IDF matrix. You can try values for `n_components` that allow to get 10-20 topics. Save the encoded matrix into a variable named `topic_encoded_df`.\n",
    "- Contrary to clustering, LSA allows to map each document to a mixing of several topics. For this reason, it's a bit more difficult to interpret the topics as categories : one document can actually be related to several topics at a time. To make things easier, consider extracting the main topic of each document.\n",
    "- As in part 1, you can display `wordclouds` to analyze the results."
   ]
  },
  {
   "cell_type": "markdown",
   "metadata": {},
   "source": [
    "## Deliverable 📬\n",
    "\n",
    "To complete this project, your team should: \n",
    "\n",
    "- Train at least one **clustering model** on the corpus and display wordclouds describing the clusters\n",
    "- Develop a simple python code that allows a user to type the id of a product he's interested in, and then get a list of similar items\n",
    "- Train at least one **TruncatedSVD model** on the corpus and display wordclouds describing the latent topics\n"
   ]
  }
 ],
 "metadata": {
  "kernelspec": {
   "display_name": "Python 3",
   "language": "python",
   "name": "python3"
  },
  "language_info": {
   "codemirror_mode": {
    "name": "ipython",
    "version": 3
   },
   "file_extension": ".py",
   "mimetype": "text/x-python",
   "name": "python",
   "nbconvert_exporter": "python",
   "pygments_lexer": "ipython3",
   "version": "3.8.8"
  }
 },
 "nbformat": 4,
 "nbformat_minor": 4
}
