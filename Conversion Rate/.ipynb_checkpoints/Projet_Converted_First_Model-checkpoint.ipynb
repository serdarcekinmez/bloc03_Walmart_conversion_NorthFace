{
 "cells": [
  {
   "cell_type": "markdown",
   "id": "0c2bee30",
   "metadata": {},
   "source": [
    "# CONVERSITION RATE PROJECT"
   ]
  },
  {
   "cell_type": "code",
   "execution_count": null,
   "id": "0797c9b8",
   "metadata": {},
   "outputs": [],
   "source": []
  },
  {
   "cell_type": "code",
   "execution_count": 1,
   "id": "fa3c9e41",
   "metadata": {},
   "outputs": [],
   "source": [
    "import pandas as pd\n",
    "import numpy as np\n",
    "import matplotlib.pyplot as plt\n",
    "import seaborn as sns\n",
    "\n",
    "from sklearn.model_selection import train_test_split\n",
    "from sklearn.impute import SimpleImputer\n",
    "from sklearn.preprocessing import StandardScaler\n",
    "from sklearn.compose import ColumnTransformer\n",
    "from sklearn.linear_model import LogisticRegression\n",
    "from sklearn.metrics import f1_score, confusion_matrix\n",
    "\n",
    "import matplotlib.pyplot as plt\n",
    "import plotly.express as px\n",
    "import plotly.graph_objects as go\n",
    "import plotly.io as pio"
   ]
  },
  {
   "cell_type": "code",
   "execution_count": null,
   "id": "cc7fa7b4",
   "metadata": {},
   "outputs": [],
   "source": []
  },
  {
   "cell_type": "code",
   "execution_count": 2,
   "id": "8b11d601",
   "metadata": {},
   "outputs": [],
   "source": [
    "df=pd.read_csv('C:/Users/serda/OneDrive/Bureau/Online Education/Certification/Conversion Rate/conversion_data_train.csv')\n"
   ]
  },
  {
   "cell_type": "code",
   "execution_count": 3,
   "id": "c1941ec5",
   "metadata": {},
   "outputs": [
    {
     "data": {
      "text/html": [
       "<div>\n",
       "<style scoped>\n",
       "    .dataframe tbody tr th:only-of-type {\n",
       "        vertical-align: middle;\n",
       "    }\n",
       "\n",
       "    .dataframe tbody tr th {\n",
       "        vertical-align: top;\n",
       "    }\n",
       "\n",
       "    .dataframe thead th {\n",
       "        text-align: right;\n",
       "    }\n",
       "</style>\n",
       "<table border=\"1\" class=\"dataframe\">\n",
       "  <thead>\n",
       "    <tr style=\"text-align: right;\">\n",
       "      <th></th>\n",
       "      <th>country</th>\n",
       "      <th>age</th>\n",
       "      <th>new_user</th>\n",
       "      <th>source</th>\n",
       "      <th>total_pages_visited</th>\n",
       "      <th>converted</th>\n",
       "    </tr>\n",
       "  </thead>\n",
       "  <tbody>\n",
       "    <tr>\n",
       "      <th>0</th>\n",
       "      <td>China</td>\n",
       "      <td>22</td>\n",
       "      <td>1</td>\n",
       "      <td>Direct</td>\n",
       "      <td>2</td>\n",
       "      <td>0</td>\n",
       "    </tr>\n",
       "    <tr>\n",
       "      <th>1</th>\n",
       "      <td>UK</td>\n",
       "      <td>21</td>\n",
       "      <td>1</td>\n",
       "      <td>Ads</td>\n",
       "      <td>3</td>\n",
       "      <td>0</td>\n",
       "    </tr>\n",
       "    <tr>\n",
       "      <th>2</th>\n",
       "      <td>Germany</td>\n",
       "      <td>20</td>\n",
       "      <td>0</td>\n",
       "      <td>Seo</td>\n",
       "      <td>14</td>\n",
       "      <td>1</td>\n",
       "    </tr>\n",
       "    <tr>\n",
       "      <th>3</th>\n",
       "      <td>US</td>\n",
       "      <td>23</td>\n",
       "      <td>1</td>\n",
       "      <td>Seo</td>\n",
       "      <td>3</td>\n",
       "      <td>0</td>\n",
       "    </tr>\n",
       "    <tr>\n",
       "      <th>4</th>\n",
       "      <td>US</td>\n",
       "      <td>28</td>\n",
       "      <td>1</td>\n",
       "      <td>Direct</td>\n",
       "      <td>3</td>\n",
       "      <td>0</td>\n",
       "    </tr>\n",
       "  </tbody>\n",
       "</table>\n",
       "</div>"
      ],
      "text/plain": [
       "   country  age  new_user  source  total_pages_visited  converted\n",
       "0    China   22         1  Direct                    2          0\n",
       "1       UK   21         1     Ads                    3          0\n",
       "2  Germany   20         0     Seo                   14          1\n",
       "3       US   23         1     Seo                    3          0\n",
       "4       US   28         1  Direct                    3          0"
      ]
     },
     "execution_count": 3,
     "metadata": {},
     "output_type": "execute_result"
    }
   ],
   "source": [
    "df.head()"
   ]
  },
  {
   "cell_type": "code",
   "execution_count": 4,
   "id": "32e7adba",
   "metadata": {},
   "outputs": [
    {
     "name": "stdout",
     "output_type": "stream",
     "text": [
      "<class 'pandas.core.frame.DataFrame'>\n",
      "RangeIndex: 284580 entries, 0 to 284579\n",
      "Data columns (total 6 columns):\n",
      " #   Column               Non-Null Count   Dtype \n",
      "---  ------               --------------   ----- \n",
      " 0   country              284580 non-null  object\n",
      " 1   age                  284580 non-null  int64 \n",
      " 2   new_user             284580 non-null  int64 \n",
      " 3   source               284580 non-null  object\n",
      " 4   total_pages_visited  284580 non-null  int64 \n",
      " 5   converted            284580 non-null  int64 \n",
      "dtypes: int64(4), object(2)\n",
      "memory usage: 13.0+ MB\n"
     ]
    }
   ],
   "source": [
    "df.info()"
   ]
  },
  {
   "cell_type": "code",
   "execution_count": null,
   "id": "89bc3a30",
   "metadata": {},
   "outputs": [],
   "source": []
  },
  {
   "cell_type": "code",
   "execution_count": null,
   "id": "d69ce086",
   "metadata": {},
   "outputs": [],
   "source": []
  },
  {
   "cell_type": "code",
   "execution_count": null,
   "id": "0cfbbe79",
   "metadata": {},
   "outputs": [],
   "source": [
    "df.describe(include='all')"
   ]
  },
  {
   "cell_type": "code",
   "execution_count": null,
   "id": "a7e31678",
   "metadata": {},
   "outputs": [],
   "source": []
  },
  {
   "cell_type": "code",
   "execution_count": null,
   "id": "e32d4dd2",
   "metadata": {},
   "outputs": [],
   "source": [
    "sns.countplot(data=df, x='converted');"
   ]
  },
  {
   "cell_type": "code",
   "execution_count": null,
   "id": "70cdd2d3",
   "metadata": {},
   "outputs": [],
   "source": [
    "converted_percent= (df.converted==1).sum()/len(df)*100"
   ]
  },
  {
   "cell_type": "code",
   "execution_count": null,
   "id": "e351467f",
   "metadata": {},
   "outputs": [],
   "source": [
    "converted_percent"
   ]
  },
  {
   "cell_type": "code",
   "execution_count": null,
   "id": "0c897467",
   "metadata": {},
   "outputs": [],
   "source": [
    "sns.countplot(data=df, x='country', hue='converted');"
   ]
  },
  {
   "cell_type": "code",
   "execution_count": null,
   "id": "c8be1028",
   "metadata": {},
   "outputs": [],
   "source": [
    "(df[['country']]=='China').value_counts()"
   ]
  },
  {
   "cell_type": "code",
   "execution_count": null,
   "id": "d253e21d",
   "metadata": {},
   "outputs": [],
   "source": [
    "df.groupby('converted')['country'].value_counts()"
   ]
  },
  {
   "cell_type": "code",
   "execution_count": null,
   "id": "1a5af148",
   "metadata": {},
   "outputs": [],
   "source": [
    "china_percentage= (df.groupby('converted')['country'].value_counts()[1][3])/((df.converted==1).sum())*100\n",
    "print(china_percentage)"
   ]
  },
  {
   "cell_type": "code",
   "execution_count": null,
   "id": "a9c1f9b5",
   "metadata": {},
   "outputs": [],
   "source": [
    "sns.countplot(data=df, x='source', hue='converted');"
   ]
  },
  {
   "cell_type": "code",
   "execution_count": null,
   "id": "f81f349e",
   "metadata": {},
   "outputs": [],
   "source": []
  },
  {
   "cell_type": "code",
   "execution_count": null,
   "id": "0152d146",
   "metadata": {},
   "outputs": [],
   "source": [
    "###sns.pairplot(df,hue='converted');"
   ]
  },
  {
   "cell_type": "code",
   "execution_count": null,
   "id": "149261e2",
   "metadata": {},
   "outputs": [],
   "source": [
    "sns.scatterplot(x='age',y='converted',data=df);"
   ]
  },
  {
   "cell_type": "code",
   "execution_count": null,
   "id": "ff0859a3",
   "metadata": {},
   "outputs": [],
   "source": []
  },
  {
   "cell_type": "code",
   "execution_count": null,
   "id": "dc1639b2",
   "metadata": {},
   "outputs": [],
   "source": [
    "df.corr()['converted']"
   ]
  },
  {
   "cell_type": "code",
   "execution_count": null,
   "id": "10aba348",
   "metadata": {},
   "outputs": [],
   "source": [
    "df = df[df['age'] <= 80] ### age outliers "
   ]
  },
  {
   "cell_type": "code",
   "execution_count": null,
   "id": "2b616070",
   "metadata": {},
   "outputs": [],
   "source": [
    "df= df[df['age'] >= 11]"
   ]
  },
  {
   "cell_type": "code",
   "execution_count": null,
   "id": "42cb0d31",
   "metadata": {},
   "outputs": [],
   "source": [
    "df.head()"
   ]
  },
  {
   "cell_type": "code",
   "execution_count": null,
   "id": "982ddba3",
   "metadata": {},
   "outputs": [],
   "source": [
    "df_model1= df[df['country']!='China']"
   ]
  },
  {
   "cell_type": "code",
   "execution_count": null,
   "id": "b51fe246",
   "metadata": {},
   "outputs": [],
   "source": [
    "df_model1= df_model1.drop('age', axis=1)"
   ]
  },
  {
   "cell_type": "code",
   "execution_count": null,
   "id": "62384eef",
   "metadata": {},
   "outputs": [],
   "source": [
    "df_model1.head()"
   ]
  },
  {
   "cell_type": "code",
   "execution_count": null,
   "id": "91390230",
   "metadata": {},
   "outputs": [],
   "source": []
  },
  {
   "cell_type": "code",
   "execution_count": null,
   "id": "7547be29",
   "metadata": {},
   "outputs": [],
   "source": [
    "df.corr()['converted']"
   ]
  },
  {
   "cell_type": "code",
   "execution_count": null,
   "id": "511bb8c8",
   "metadata": {},
   "outputs": [],
   "source": []
  },
  {
   "cell_type": "markdown",
   "id": "06d2e51f",
   "metadata": {},
   "source": [
    "# train_test split,  ohe , training"
   ]
  },
  {
   "cell_type": "code",
   "execution_count": 6,
   "id": "1927ae7c",
   "metadata": {},
   "outputs": [
    {
     "data": {
      "text/html": [
       "<div>\n",
       "<style scoped>\n",
       "    .dataframe tbody tr th:only-of-type {\n",
       "        vertical-align: middle;\n",
       "    }\n",
       "\n",
       "    .dataframe tbody tr th {\n",
       "        vertical-align: top;\n",
       "    }\n",
       "\n",
       "    .dataframe thead th {\n",
       "        text-align: right;\n",
       "    }\n",
       "</style>\n",
       "<table border=\"1\" class=\"dataframe\">\n",
       "  <thead>\n",
       "    <tr style=\"text-align: right;\">\n",
       "      <th></th>\n",
       "      <th>country</th>\n",
       "      <th>age</th>\n",
       "      <th>new_user</th>\n",
       "      <th>source</th>\n",
       "      <th>total_pages_visited</th>\n",
       "      <th>converted</th>\n",
       "    </tr>\n",
       "  </thead>\n",
       "  <tbody>\n",
       "    <tr>\n",
       "      <th>0</th>\n",
       "      <td>China</td>\n",
       "      <td>22</td>\n",
       "      <td>1</td>\n",
       "      <td>Direct</td>\n",
       "      <td>2</td>\n",
       "      <td>0</td>\n",
       "    </tr>\n",
       "    <tr>\n",
       "      <th>1</th>\n",
       "      <td>UK</td>\n",
       "      <td>21</td>\n",
       "      <td>1</td>\n",
       "      <td>Ads</td>\n",
       "      <td>3</td>\n",
       "      <td>0</td>\n",
       "    </tr>\n",
       "    <tr>\n",
       "      <th>2</th>\n",
       "      <td>Germany</td>\n",
       "      <td>20</td>\n",
       "      <td>0</td>\n",
       "      <td>Seo</td>\n",
       "      <td>14</td>\n",
       "      <td>1</td>\n",
       "    </tr>\n",
       "    <tr>\n",
       "      <th>3</th>\n",
       "      <td>US</td>\n",
       "      <td>23</td>\n",
       "      <td>1</td>\n",
       "      <td>Seo</td>\n",
       "      <td>3</td>\n",
       "      <td>0</td>\n",
       "    </tr>\n",
       "    <tr>\n",
       "      <th>4</th>\n",
       "      <td>US</td>\n",
       "      <td>28</td>\n",
       "      <td>1</td>\n",
       "      <td>Direct</td>\n",
       "      <td>3</td>\n",
       "      <td>0</td>\n",
       "    </tr>\n",
       "  </tbody>\n",
       "</table>\n",
       "</div>"
      ],
      "text/plain": [
       "   country  age  new_user  source  total_pages_visited  converted\n",
       "0    China   22         1  Direct                    2          0\n",
       "1       UK   21         1     Ads                    3          0\n",
       "2  Germany   20         0     Seo                   14          1\n",
       "3       US   23         1     Seo                    3          0\n",
       "4       US   28         1  Direct                    3          0"
      ]
     },
     "execution_count": 6,
     "metadata": {},
     "output_type": "execute_result"
    }
   ],
   "source": [
    "df.head()"
   ]
  },
  {
   "cell_type": "code",
   "execution_count": 7,
   "id": "a3f606e2",
   "metadata": {},
   "outputs": [],
   "source": [
    "df = pd.get_dummies(df, columns=['country', 'source'], drop_first=True)"
   ]
  },
  {
   "cell_type": "code",
   "execution_count": null,
   "id": "81744932",
   "metadata": {},
   "outputs": [],
   "source": []
  },
  {
   "cell_type": "code",
   "execution_count": 8,
   "id": "ea812aa4",
   "metadata": {},
   "outputs": [],
   "source": [
    "from sklearn.model_selection import train_test_split\n",
    "from sklearn.pipeline import Pipeline\n",
    "from sklearn.impute import SimpleImputer\n",
    "from sklearn.preprocessing import  OneHotEncoder, StandardScaler, LabelEncoder\n",
    "from sklearn.compose import ColumnTransformer\n",
    "from sklearn.metrics import accuracy_score, confusion_matrix, classification_report, ConfusionMatrixDisplay"
   ]
  },
  {
   "cell_type": "code",
   "execution_count": 9,
   "id": "f63a6012",
   "metadata": {},
   "outputs": [],
   "source": [
    "X=df.drop('converted', axis=1)\n",
    "y=df['converted']"
   ]
  },
  {
   "cell_type": "code",
   "execution_count": 10,
   "id": "9fbf3ca8",
   "metadata": {},
   "outputs": [
    {
     "name": "stdout",
     "output_type": "stream",
     "text": [
      "(284580, 8)\n",
      "(284580,)\n",
      "0    0\n",
      "1    0\n",
      "2    1\n",
      "3    0\n",
      "4    0\n",
      "Name: converted, dtype: int64\n",
      "   age  new_user  total_pages_visited  country_Germany  country_UK  \\\n",
      "0   22         1                    2                0           0   \n",
      "1   21         1                    3                0           1   \n",
      "2   20         0                   14                1           0   \n",
      "3   23         1                    3                0           0   \n",
      "4   28         1                    3                0           0   \n",
      "\n",
      "   country_US  source_Direct  source_Seo  \n",
      "0           0              1           0  \n",
      "1           0              0           0  \n",
      "2           0              0           1  \n",
      "3           1              0           1  \n",
      "4           1              1           0  \n"
     ]
    }
   ],
   "source": [
    "print(X.shape)\n",
    "print(y.shape)\n",
    "print(y.head())\n",
    "print(X.head())\n"
   ]
  },
  {
   "cell_type": "code",
   "execution_count": null,
   "id": "509a3bcf",
   "metadata": {},
   "outputs": [],
   "source": []
  },
  {
   "cell_type": "code",
   "execution_count": 11,
   "id": "a8bdb901",
   "metadata": {},
   "outputs": [],
   "source": [
    "X_train, X_test, y_train, y_test= train_test_split(X, y, test_size=0.25, random_state=101, stratify=y)"
   ]
  },
  {
   "cell_type": "code",
   "execution_count": null,
   "id": "886a585c",
   "metadata": {},
   "outputs": [],
   "source": []
  },
  {
   "cell_type": "code",
   "execution_count": 12,
   "id": "6bfe745d",
   "metadata": {},
   "outputs": [
    {
     "name": "stdout",
     "output_type": "stream",
     "text": [
      "Convert pandas DataFrames to numpy arrays...\n",
      "...Done\n",
      "[[49  1  3  0  0  1  0  1]\n",
      " [37  0  2  0  0  0  0  0]\n",
      " [32  1  5  0  0  0  0  0]\n",
      " [32  1  1  0  1  0  0  1]\n",
      " [26  0  1  0  0  0  0  1]]\n",
      "[[25  0 11  0  0  1  0  1]\n",
      " [36  1  4  0  0  0  0  1]]\n",
      "\n",
      "[0 0 0 0 0]\n",
      "[0 0]\n"
     ]
    }
   ],
   "source": [
    "# Convert pandas DataFrames to numpy arrays before using scikit-learn\n",
    "print(\"Convert pandas DataFrames to numpy arrays...\")\n",
    "X_train = X_train.values\n",
    "X_test = X_test.values\n",
    "y_train = y_train.values\n",
    "y_test = y_test.values\n",
    "print(\"...Done\")\n",
    "\n",
    "print(X_train[0:5,:])\n",
    "print(X_test[0:2,:])\n",
    "print()\n",
    "print(y_train[0:5])\n",
    "print(y_test[0:2])"
   ]
  },
  {
   "cell_type": "markdown",
   "id": "3956a89f",
   "metadata": {},
   "source": [
    "print(X_train.shape)\n",
    "print(y_train.shape)\n",
    "print(y_train.head())\n",
    "print(X_train.head())"
   ]
  },
  {
   "cell_type": "code",
   "execution_count": null,
   "id": "23d7070f",
   "metadata": {},
   "outputs": [],
   "source": [
    "###categorical_features = ['country', 'source'] \n",
    "###categorical_transformer = Pipeline(steps=[('encoder', OneHotEncoder(drop='first'))])"
   ]
  },
  {
   "cell_type": "code",
   "execution_count": null,
   "id": "3f11b3f5",
   "metadata": {},
   "outputs": [],
   "source": [
    "###numeric_features = ['age', 'new_user', 'total_pages_visited']\n",
    "###scaler=StandardScaler()"
   ]
  },
  {
   "cell_type": "code",
   "execution_count": 13,
   "id": "fbb12790",
   "metadata": {},
   "outputs": [],
   "source": [
    "scaler=StandardScaler()"
   ]
  },
  {
   "cell_type": "markdown",
   "id": "5bd7309b",
   "metadata": {},
   "source": [
    "preprocessor = ColumnTransformer(\n",
    "    transformers=[\n",
    "        ('num', scaler, numeric_features),\n",
    "        ('cat', categorical_transformer, categorical_features)\n",
    "    ])"
   ]
  },
  {
   "cell_type": "code",
   "execution_count": 14,
   "id": "bf2f232b",
   "metadata": {},
   "outputs": [],
   "source": [
    "X_train = scaler.fit_transform(X_train)"
   ]
  },
  {
   "cell_type": "code",
   "execution_count": 15,
   "id": "04d2e3f4",
   "metadata": {},
   "outputs": [],
   "source": [
    "X_test = scaler.transform(X_test)"
   ]
  },
  {
   "cell_type": "code",
   "execution_count": null,
   "id": "789f5906",
   "metadata": {},
   "outputs": [],
   "source": [
    "print(f' scaled X_train :\\n  {X_train[0:5]}\\n\\n')\n",
    "print(f' scaled X_test  :\\n  {X_test[0:5]}')"
   ]
  },
  {
   "cell_type": "markdown",
   "id": "c63eb170",
   "metadata": {},
   "source": [
    "# Model"
   ]
  },
  {
   "cell_type": "code",
   "execution_count": 16,
   "id": "d80015f4",
   "metadata": {},
   "outputs": [],
   "source": [
    "from sklearn.linear_model import LogisticRegression, LogisticRegressionCV"
   ]
  },
  {
   "cell_type": "code",
   "execution_count": null,
   "id": "35bceb30",
   "metadata": {},
   "outputs": [],
   "source": [
    "model = LogisticRegression()"
   ]
  },
  {
   "cell_type": "code",
   "execution_count": null,
   "id": "2176bbf9",
   "metadata": {},
   "outputs": [],
   "source": [
    "model.fit(X_train,y_train)"
   ]
  },
  {
   "cell_type": "code",
   "execution_count": null,
   "id": "61d1fd70",
   "metadata": {},
   "outputs": [],
   "source": [
    "y_pred = model.predict(X_test)\n",
    "y_train_pred = model.predict(X_train)\n"
   ]
  },
  {
   "cell_type": "markdown",
   "id": "e76dcc30",
   "metadata": {},
   "source": [
    "# Performance"
   ]
  },
  {
   "cell_type": "code",
   "execution_count": null,
   "id": "e85e2c0d",
   "metadata": {},
   "outputs": [],
   "source": []
  },
  {
   "cell_type": "code",
   "execution_count": null,
   "id": "d4b5f94c",
   "metadata": {},
   "outputs": [],
   "source": [
    "print(\"f1-score on train set : \", f1_score(y_train, y_train_pred))\n",
    "print(\"f1-score on test set : \", f1_score(y_test, y_pred))"
   ]
  },
  {
   "cell_type": "code",
   "execution_count": null,
   "id": "c2a066be",
   "metadata": {},
   "outputs": [],
   "source": [
    "print(\"Confusion matrix on train set : \")\n",
    "print(confusion_matrix(y_train, y_train_pred))\n",
    "print()\n",
    "print(\"Confusion matrix on test set : \")\n",
    "print(confusion_matrix(y_test, y_pred))\n",
    "print()"
   ]
  },
  {
   "cell_type": "code",
   "execution_count": null,
   "id": "706d7d85",
   "metadata": {},
   "outputs": [],
   "source": [
    "confusion_matrix(y_test,y_pred)\n",
    "confusion_matrix(y_train,y_train_pred)"
   ]
  },
  {
   "cell_type": "code",
   "execution_count": null,
   "id": "62fe8cb8",
   "metadata": {},
   "outputs": [],
   "source": [
    "ConfusionMatrixDisplay.from_estimator(model,X_test,y_test);"
   ]
  },
  {
   "cell_type": "code",
   "execution_count": null,
   "id": "95bec831",
   "metadata": {},
   "outputs": [],
   "source": [
    "ConfusionMatrixDisplay.from_estimator(model,X_train,y_train);"
   ]
  },
  {
   "cell_type": "code",
   "execution_count": null,
   "id": "7cef2134",
   "metadata": {},
   "outputs": [],
   "source": [
    "print(\"f1-score on train set : \", f1_score(y_train, y_train_pred))\n",
    "print(\"f1-score on test set : \", f1_score(y_test, y_pred))"
   ]
  },
  {
   "cell_type": "code",
   "execution_count": null,
   "id": "9e71aef9",
   "metadata": {},
   "outputs": [],
   "source": []
  },
  {
   "cell_type": "markdown",
   "id": "cf97f699",
   "metadata": {},
   "source": [
    "# LogisticRegressionCV"
   ]
  },
  {
   "cell_type": "code",
   "execution_count": null,
   "id": "767e26a4",
   "metadata": {},
   "outputs": [],
   "source": [
    "from sklearn.model_selection import GridSearchCV\n"
   ]
  },
  {
   "cell_type": "code",
   "execution_count": null,
   "id": "5a770897",
   "metadata": {},
   "outputs": [],
   "source": [
    "modelCV = LogisticRegressionCV()"
   ]
  },
  {
   "cell_type": "code",
   "execution_count": null,
   "id": "56e92d5d",
   "metadata": {},
   "outputs": [],
   "source": [
    "C= np.logspace(0.01, 0.1, 1, 10)"
   ]
  },
  {
   "cell_type": "code",
   "execution_count": null,
   "id": "fd21ef01",
   "metadata": {},
   "outputs": [],
   "source": [
    "param_grid = {'C': C}"
   ]
  },
  {
   "cell_type": "code",
   "execution_count": null,
   "id": "545c7f23",
   "metadata": {},
   "outputs": [],
   "source": [
    "###n_estimators=[2,3,4,5,10]"
   ]
  },
  {
   "cell_type": "code",
   "execution_count": null,
   "id": "6d59c129",
   "metadata": {},
   "outputs": [],
   "source": [
    "###from sklearn.ensemble import BaggingClassifier\n"
   ]
  },
  {
   "cell_type": "code",
   "execution_count": null,
   "id": "abd00b72",
   "metadata": {},
   "outputs": [],
   "source": [
    "###bagging_model=BaggingClassifier(model)"
   ]
  },
  {
   "cell_type": "code",
   "execution_count": null,
   "id": "296bdb75",
   "metadata": {},
   "outputs": [],
   "source": [
    "model_Grid= GridSearchCV(model, param_grid=param_grid, cv=5)"
   ]
  },
  {
   "cell_type": "code",
   "execution_count": null,
   "id": "cbba9e00",
   "metadata": {},
   "outputs": [],
   "source": [
    "model_Grid.fit(X_train, y_train)"
   ]
  },
  {
   "cell_type": "code",
   "execution_count": null,
   "id": "25a43521",
   "metadata": {
    "scrolled": true
   },
   "outputs": [],
   "source": [
    "y_pred = model_Grid.predict(X_test)\n",
    "y_train_pred = model_Grid.predict(X_train)\n",
    "print(\"f1-score on train set : \", f1_score(y_train, y_train_pred))\n",
    "print(\"f1-score on test set : \", f1_score(y_test, y_pred))"
   ]
  },
  {
   "cell_type": "markdown",
   "id": "9ea8f1ac",
   "metadata": {},
   "source": []
  },
  {
   "cell_type": "markdown",
   "id": "d6e92a8c",
   "metadata": {},
   "source": [
    "modelCV= LogisticRegressionCV(*,\n",
    "    Cs=10,\n",
    "    fit_intercept=True,\n",
    "    cv=None,\n",
    "    dual=False,\n",
    "    penalty='l2',\n",
    "    scoring=None,\n",
    "    solver='lbfgs',\n",
    "    tol=0.0001,\n",
    "    max_iter=100,\n",
    "    class_weight=None,\n",
    "    n_jobs=None,\n",
    "    verbose=0,\n",
    "    refit=True,\n",
    "    intercept_scaling=1.0,\n",
    "    multi_class='auto',\n",
    "    random_state=None,\n",
    "    l1_ratios=None,\n",
    "))\n",
    "pipeline = Pipeline([\n",
    "    ('modelCV', modelCV),\n",
    "    ('modelGrid',model_Grid)\n",
    "])"
   ]
  },
  {
   "cell_type": "code",
   "execution_count": null,
   "id": "c68e2350",
   "metadata": {},
   "outputs": [],
   "source": [
    "modelCV.fit(X_train, y_train)"
   ]
  },
  {
   "cell_type": "code",
   "execution_count": null,
   "id": "4596e95c",
   "metadata": {},
   "outputs": [],
   "source": [
    "y_pred = modelCV.predict(X_test)\n",
    "y_train_pred = modelCV.predict(X_train)\n",
    "print(\"f1-score on train set : \", f1_score(y_train, y_train_pred))\n",
    "print(\"f1-score on test set : \", f1_score(y_test, y_pred))"
   ]
  },
  {
   "cell_type": "code",
   "execution_count": null,
   "id": "531d547e",
   "metadata": {},
   "outputs": [],
   "source": [
    "print(\"f1-score on train set : \", f1_score(y_train, y_train_pred))\n",
    "print(\"f1-score on test set : \", f1_score(y_test, y_pred))"
   ]
  },
  {
   "cell_type": "code",
   "execution_count": null,
   "id": "3fab3d42",
   "metadata": {},
   "outputs": [],
   "source": []
  },
  {
   "cell_type": "markdown",
   "id": "469228c0",
   "metadata": {},
   "source": [
    "# RandomForest"
   ]
  },
  {
   "cell_type": "code",
   "execution_count": null,
   "id": "e0f72bdb",
   "metadata": {},
   "outputs": [],
   "source": [
    "from sklearn.ensemble import RandomForestClassifier"
   ]
  },
  {
   "cell_type": "code",
   "execution_count": null,
   "id": "0160c314",
   "metadata": {},
   "outputs": [],
   "source": [
    "rfc = RandomForestClassifier(random_state=42)"
   ]
  },
  {
   "cell_type": "code",
   "execution_count": null,
   "id": "e689c267",
   "metadata": {},
   "outputs": [],
   "source": [
    "rfc.fit(X_train,y_train)"
   ]
  },
  {
   "cell_type": "code",
   "execution_count": null,
   "id": "615256a3",
   "metadata": {},
   "outputs": [],
   "source": [
    "y_pred = rfc.predict(X_test)\n",
    "y_train_pred = rfc.predict(X_train)"
   ]
  },
  {
   "cell_type": "code",
   "execution_count": null,
   "id": "ec5f5fc3",
   "metadata": {},
   "outputs": [],
   "source": [
    "print(\"f1-score on train set : \", f1_score(y_train, y_train_pred))\n",
    "print(\"f1-score on test set : \", f1_score(y_test, y_pred))"
   ]
  },
  {
   "cell_type": "code",
   "execution_count": null,
   "id": "d156608d",
   "metadata": {},
   "outputs": [],
   "source": []
  },
  {
   "cell_type": "markdown",
   "id": "7b997cad",
   "metadata": {},
   "source": [
    "# LATEST "
   ]
  },
  {
   "cell_type": "code",
   "execution_count": null,
   "id": "3d434c8f",
   "metadata": {},
   "outputs": [],
   "source": [
    "from sklearn.neighbors import KNeighborsClassifier\n",
    "from sklearn.model_selection import GridSearchCV\n"
   ]
  },
  {
   "cell_type": "code",
   "execution_count": null,
   "id": "aa81c028",
   "metadata": {},
   "outputs": [],
   "source": [
    "knn_model= KNeighborsClassifier( )"
   ]
  },
  {
   "cell_type": "code",
   "execution_count": null,
   "id": "8cf86ab1",
   "metadata": {},
   "outputs": [],
   "source": [
    "n_neighbors= [1,5,10]\n",
    "weights=['uniform']\n",
    "leaf_size= [2,5]\n",
    "p=[1,2]"
   ]
  },
  {
   "cell_type": "code",
   "execution_count": null,
   "id": "7757bbda",
   "metadata": {},
   "outputs": [],
   "source": []
  },
  {
   "cell_type": "code",
   "execution_count": null,
   "id": "54eedd7c",
   "metadata": {},
   "outputs": [],
   "source": [
    "\n"
   ]
  },
  {
   "cell_type": "code",
   "execution_count": null,
   "id": "3208d749",
   "metadata": {},
   "outputs": [],
   "source": [
    "###from sklearn.ensemble import BaggingClassifier, AdaBoostClassifier, GradientBoostingClassifier, VotingClassifier, StackingClassifier\n",
    "\n",
    "###model_gbc = GradientBoostingClassifier(knn_model)\n"
   ]
  },
  {
   "cell_type": "code",
   "execution_count": null,
   "id": "cbdbe08a",
   "metadata": {},
   "outputs": [],
   "source": [
    "param_grids= { 'n_neighbors': n_neighbors, 'weights':weights, 'leaf_size':leaf_size, 'p': p}\n",
    "\n"
   ]
  },
  {
   "cell_type": "code",
   "execution_count": null,
   "id": "39e1fd0f",
   "metadata": {
    "scrolled": true
   },
   "outputs": [],
   "source": [
    "\n",
    "print(param_grids)\n",
    "gridsearch = GridSearchCV(knn_model, param_grid = param_grids, cv = 5) \n",
    "gridsearch.fit(X_train, y_train)\n",
    "print(\"...Done.\")\n",
    "print(\"Best hyperparameters : \", gridsearch.best_params_)\n",
    "print(\"Best validation accuracy : \", gridsearch.best_score_)\n",
    "print()\n",
    "print(\"Accuracy on training set : \", gridsearch.score(X_train, y_train))\n",
    "print(\"Accuracy on test set : \", gridsearch.score(X_test, y_test))"
   ]
  },
  {
   "cell_type": "markdown",
   "id": "7c46f9ef",
   "metadata": {},
   "source": [
    "# Model SVM"
   ]
  },
  {
   "cell_type": "code",
   "execution_count": 17,
   "id": "1b3e73a4",
   "metadata": {},
   "outputs": [],
   "source": [
    "from sklearn.svm import SVC\n",
    "from sklearn.model_selection import GridSearchCV"
   ]
  },
  {
   "cell_type": "code",
   "execution_count": null,
   "id": "1c1d88fe",
   "metadata": {},
   "outputs": [],
   "source": [
    "svm_clf= SVC()"
   ]
  },
  {
   "cell_type": "code",
   "execution_count": null,
   "id": "4ca239af",
   "metadata": {},
   "outputs": [],
   "source": [
    "C=[0.05,  0.5, 1,40]\n",
    "gamma=['scale']"
   ]
  },
  {
   "cell_type": "code",
   "execution_count": null,
   "id": "1ec621f7",
   "metadata": {},
   "outputs": [],
   "source": [
    "param_grids= { 'C': C, 'gamma':gamma}\n"
   ]
  },
  {
   "cell_type": "code",
   "execution_count": null,
   "id": "72ea7e36",
   "metadata": {},
   "outputs": [],
   "source": [
    "gridsearch_svm = GridSearchCV(svm_clf, param_grid = param_grids, cv = 3, verbose=2) "
   ]
  },
  {
   "cell_type": "code",
   "execution_count": null,
   "id": "72d12542",
   "metadata": {},
   "outputs": [],
   "source": [
    "gridsearch_svm.fit(X_train, y_train)"
   ]
  },
  {
   "cell_type": "code",
   "execution_count": null,
   "id": "b56e8a05",
   "metadata": {},
   "outputs": [],
   "source": [
    "print(\"Best hyperparameters : \", gridsearch_svm.best_params_)\n",
    "print(\"Best validation accuracy : \", gridsearch_svm.best_score_)\n",
    "print()\n"
   ]
  },
  {
   "cell_type": "code",
   "execution_count": null,
   "id": "a04d2464",
   "metadata": {},
   "outputs": [],
   "source": [
    "model_best=SVC(C=40, gamma='scale', verbose=2)"
   ]
  },
  {
   "cell_type": "code",
   "execution_count": null,
   "id": "2dc4de62",
   "metadata": {},
   "outputs": [],
   "source": [
    "model_best.fit(X_train, y_train)"
   ]
  },
  {
   "cell_type": "code",
   "execution_count": null,
   "id": "556d4634",
   "metadata": {},
   "outputs": [],
   "source": [
    "y_pred_svc = model_best.predict(X_test)\n",
    "y_train_pred_svc = model_best.predict(X_train)"
   ]
  },
  {
   "cell_type": "code",
   "execution_count": null,
   "id": "65d66d67",
   "metadata": {},
   "outputs": [],
   "source": [
    "print(\"f1-score on train set : \", f1_score(y_train, y_train_pred_svc))\n",
    "print(\"f1-score on test set : \", f1_score(y_test, y_pred_svc))"
   ]
  },
  {
   "cell_type": "code",
   "execution_count": 18,
   "id": "29d0e77a",
   "metadata": {},
   "outputs": [],
   "source": [
    "svm_clf1= SVC()"
   ]
  },
  {
   "cell_type": "code",
   "execution_count": 19,
   "id": "fc95ec9f",
   "metadata": {},
   "outputs": [],
   "source": [
    "Cbest=[40]\n",
    "gammabest=['scale']"
   ]
  },
  {
   "cell_type": "code",
   "execution_count": 20,
   "id": "034834b2",
   "metadata": {},
   "outputs": [],
   "source": [
    "param_grids= { 'C': Cbest, 'gamma':gammabest}\n"
   ]
  },
  {
   "cell_type": "code",
   "execution_count": 22,
   "id": "52e9e1b8",
   "metadata": {},
   "outputs": [],
   "source": [
    "gridsearch_svm_best = GridSearchCV(svm_clf1,param_grid=param_grids,  cv = 5, verbose=2) "
   ]
  },
  {
   "cell_type": "code",
   "execution_count": 23,
   "id": "4a685094",
   "metadata": {},
   "outputs": [
    {
     "name": "stdout",
     "output_type": "stream",
     "text": [
      "Fitting 5 folds for each of 1 candidates, totalling 5 fits\n",
      "[CV] END ..................................C=40, gamma=scale; total time= 7.7min\n",
      "[CV] END ..................................C=40, gamma=scale; total time= 7.4min\n",
      "[CV] END ..................................C=40, gamma=scale; total time= 7.9min\n",
      "[CV] END ..................................C=40, gamma=scale; total time= 7.4min\n",
      "[CV] END ..................................C=40, gamma=scale; total time= 9.8min\n"
     ]
    },
    {
     "data": {
      "text/plain": [
       "GridSearchCV(cv=5, estimator=SVC(), param_grid={'C': [40], 'gamma': ['scale']},\n",
       "             verbose=2)"
      ]
     },
     "execution_count": 23,
     "metadata": {},
     "output_type": "execute_result"
    }
   ],
   "source": [
    "gridsearch_svm_best.fit(X_train, y_train)"
   ]
  },
  {
   "cell_type": "code",
   "execution_count": null,
   "id": "0a503ef2",
   "metadata": {},
   "outputs": [],
   "source": []
  },
  {
   "cell_type": "code",
   "execution_count": 24,
   "id": "a5d976ef",
   "metadata": {},
   "outputs": [],
   "source": [
    "y_pred_svc_grid = gridsearch_svm_best.predict(X_test)\n",
    "y_train_pred_svc_grid = gridsearch_svm_best.predict(X_train)"
   ]
  },
  {
   "cell_type": "code",
   "execution_count": 25,
   "id": "b8b5e337",
   "metadata": {},
   "outputs": [
    {
     "name": "stdout",
     "output_type": "stream",
     "text": [
      "f1-score on train set :  0.7565058843030001\n",
      "f1-score on test set :  0.7468671679197995\n"
     ]
    }
   ],
   "source": [
    "print(\"f1-score on train set : \", f1_score(y_train, y_train_pred_svc_grid))\n",
    "print(\"f1-score on test set : \", f1_score(y_test, y_pred_svc_grid))"
   ]
  },
  {
   "cell_type": "code",
   "execution_count": null,
   "id": "4e4f94cd",
   "metadata": {},
   "outputs": [],
   "source": [
    "print(\"Best hyperparameters : \", gridsearch_svm_best.best_params_)\n",
    "print(\"Best validation accuracy : \", gridsearch_svm_best.best_score_)\n",
    "print()"
   ]
  },
  {
   "cell_type": "code",
   "execution_count": null,
   "id": "60289ff9",
   "metadata": {},
   "outputs": [],
   "source": [
    "gridsearch_svm_best1 = GridSearchCV(svm_clf1,param_grid=param_grids,  cv = 5, verbose=2) "
   ]
  },
  {
   "cell_type": "code",
   "execution_count": null,
   "id": "4c6aa2a1",
   "metadata": {},
   "outputs": [],
   "source": [
    "print(\"Accuracy on training set : \", gridsearch.score(X_train, y_train))\n",
    "print(\"Accuracy on test set : \", gridsearch.score(X_test, y_test)"
   ]
  },
  {
   "cell_type": "markdown",
   "id": "67e0e1bd",
   "metadata": {},
   "source": [
    "# Best Classifier on All Data"
   ]
  },
  {
   "cell_type": "code",
   "execution_count": null,
   "id": "4f33e1bc",
   "metadata": {},
   "outputs": [],
   "source": [
    "# Concatenate our train and test set to train your best classifier on all data with labels\n",
    "X = np.append(X_train,X_test,axis=0)\n",
    "y = np.append(y_train,y_test) ### before knn , logisticRegression was the model. about 76 percent. Knn models seems overfitted."
   ]
  },
  {
   "cell_type": "code",
   "execution_count": null,
   "id": "9c75aa3c",
   "metadata": {},
   "outputs": [],
   "source": [
    "gridsearch_svm_best.fit(X,y)"
   ]
  },
  {
   "cell_type": "code",
   "execution_count": null,
   "id": "f805cbfb",
   "metadata": {},
   "outputs": [],
   "source": [
    "data_without_labels = pd.read_csv('C:/Users/serda/OneDrive/Bureau/Online Education/Certification/Conversion Rate/conversion_data_test.csv')"
   ]
  },
  {
   "cell_type": "code",
   "execution_count": null,
   "id": "d5475635",
   "metadata": {},
   "outputs": [],
   "source": [
    "print('Prediction set (without labels) :', data_without_labels.shape)"
   ]
  },
  {
   "cell_type": "code",
   "execution_count": null,
   "id": "12b09587",
   "metadata": {},
   "outputs": [],
   "source": [
    "###features_list = ['total_pages_visited']\n",
    "X_without_labels = data_without_labels\n",
    "X_without_labels.head()"
   ]
  },
  {
   "cell_type": "code",
   "execution_count": null,
   "id": "1fff28a5",
   "metadata": {},
   "outputs": [],
   "source": [
    "X_without_labels= pd.get_dummies(X_without_labels, columns=['country', 'source'], drop_first=True)"
   ]
  },
  {
   "cell_type": "code",
   "execution_count": null,
   "id": "3fc3777f",
   "metadata": {},
   "outputs": [],
   "source": [
    "\n",
    "# Convert pandas DataFrames to numpy arrays before using scikit-learn\n",
    "print(\"Convert pandas DataFrames to numpy arrays...\")\n",
    "X_without_labels = X_without_labels.values\n",
    "print(\"...Done\")\n",
    "\n",
    "print(X_without_labels[0:5,:])"
   ]
  },
  {
   "cell_type": "code",
   "execution_count": null,
   "id": "35478efd",
   "metadata": {},
   "outputs": [],
   "source": []
  },
  {
   "cell_type": "code",
   "execution_count": null,
   "id": "20e7be40",
   "metadata": {},
   "outputs": [],
   "source": [
    "\n",
    "X_without_labels = scaler.transform(X_without_labels)\n",
    "print(\"...Done\")\n",
    "print(X_without_labels[0:5,:])"
   ]
  },
  {
   "cell_type": "code",
   "execution_count": null,
   "id": "e8250a31",
   "metadata": {},
   "outputs": [],
   "source": []
  },
  {
   "cell_type": "code",
   "execution_count": null,
   "id": "40acbab4",
   "metadata": {},
   "outputs": [],
   "source": [
    "# Make predictions and dump to file\n",
    "# WARNING : MAKE SURE THE FILE IS A CSV WITH ONE COLUMN NAMED 'converted' AND NO INDEX !\n",
    "# WARNING : FILE NAME MUST HAVE FORMAT 'conversion_data_test_predictions_[name].csv'\n",
    "# where [name] is the name of your team/model separated by a '-'\n",
    "# For example : [name] = AURELIE-model1\n",
    "data = {\n",
    "    'converted': gridsearch_svm_best.predict(X_without_labels)\n",
    "}\n",
    "\n",
    "Y_predictions = pd.DataFrame(columns=['converted'],data=data)\n",
    "Y_predictions.to_csv('conversion_data_test_predictions_SERDAR_model_3.csv', index=False)"
   ]
  },
  {
   "cell_type": "code",
   "execution_count": null,
   "id": "f8f21446",
   "metadata": {},
   "outputs": [],
   "source": [
    "all_data_pred = model_Grid.predict(X_without_labels)\n"
   ]
  },
  {
   "cell_type": "code",
   "execution_count": null,
   "id": "1b631f75",
   "metadata": {},
   "outputs": [],
   "source": [
    "###print(\"f1-score on train set : \", f1_score(y_train, all_data_pred))\n",
    "###print(\"f1-score on test set : \", f1_score(y_test, all_data_pred))"
   ]
  },
  {
   "cell_type": "code",
   "execution_count": null,
   "id": "cef3fe7b",
   "metadata": {},
   "outputs": [],
   "source": [
    "all_data_pred.shape"
   ]
  },
  {
   "cell_type": "code",
   "execution_count": null,
   "id": "242599b9",
   "metadata": {},
   "outputs": [],
   "source": []
  }
 ],
 "metadata": {
  "kernelspec": {
   "display_name": "Python 3 (ipykernel)",
   "language": "python",
   "name": "python3"
  },
  "language_info": {
   "codemirror_mode": {
    "name": "ipython",
    "version": 3
   },
   "file_extension": ".py",
   "mimetype": "text/x-python",
   "name": "python",
   "nbconvert_exporter": "python",
   "pygments_lexer": "ipython3",
   "version": "3.9.13"
  }
 },
 "nbformat": 4,
 "nbformat_minor": 5
}
